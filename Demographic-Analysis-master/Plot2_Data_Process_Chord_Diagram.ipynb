{
 "cells": [
  {
   "cell_type": "code",
   "execution_count": 1,
   "metadata": {
    "collapsed": true
   },
   "outputs": [],
   "source": [
    "import numpy as np\n",
    "import pandas as pd"
   ]
  },
  {
   "cell_type": "code",
   "execution_count": 2,
   "metadata": {
    "collapsed": true
   },
   "outputs": [],
   "source": [
    "# read data \n",
    "data_09 = pd.read_csv('data/Plot2_ChordDiagram_MigrationState/state_migration_09.csv', low_memory=False,\n",
    "                      header = None)\n",
    "\n",
    "data_10 = pd.read_csv('data/Plot2_ChordDiagram_MigrationState/state_migration_10.csv', low_memory=False,\n",
    "                      header = None)\n",
    "\n",
    "data_11 = pd.read_csv('data/Plot2_ChordDiagram_MigrationState/state_migration_2011.csv', low_memory=False,\n",
    "                      header = None)\n",
    "\n",
    "data_12 = pd.read_csv('data/Plot2_ChordDiagram_MigrationState/state_migration_2012.csv', low_memory=False,\n",
    "                      header = None)\n",
    "\n",
    "data_13 = pd.read_csv('data/Plot2_ChordDiagram_MigrationState/state_migration_2013.csv', low_memory=False,\n",
    "                      header = None)"
   ]
  },
  {
   "cell_type": "code",
   "execution_count": 26,
   "metadata": {
    "collapsed": true
   },
   "outputs": [],
   "source": [
    "# read region data\n",
    "region = pd.read_csv('./data/Plot2_ChordDiagram_MigrationState/state_to_region.csv', \n",
    "                     low_memory=False)"
   ]
  },
  {
   "cell_type": "code",
   "execution_count": 6,
   "metadata": {
    "collapsed": true
   },
   "outputs": [],
   "source": [
    "cols = data_09.columns"
   ]
  },
  {
   "cell_type": "code",
   "execution_count": 7,
   "metadata": {
    "collapsed": true
   },
   "outputs": [],
   "source": [
    "# convert data type to float\n",
    "mig_09 = data_09.loc[:,1:].replace({'\\,':''}, regex = True).astype(float).as_matrix()\n",
    "\n",
    "mig_10 = data_10.loc[:,1:].replace({'\\,':''}, regex = True).astype(float).as_matrix()\n",
    "\n",
    "mig_11 = data_11.loc[:,1:].replace({'\\,':''}, regex = True).astype(float).as_matrix()\n",
    "\n",
    "mig_12 = data_12.loc[:,1:].replace({'\\,':''}, regex = True).astype(float).as_matrix()\n",
    "\n",
    "mig_13 = data_13.loc[:,1:].replace({'\\,':''}, regex = True).astype(float).as_matrix()"
   ]
  },
  {
   "cell_type": "code",
   "execution_count": 8,
   "metadata": {
    "collapsed": true
   },
   "outputs": [],
   "source": [
    "# aggregate data \n",
    "mig_total = mig_09 + mig_10 + mig_11 + mig_12 + mig_13"
   ]
  },
  {
   "cell_type": "code",
   "execution_count": 9,
   "metadata": {
    "collapsed": true
   },
   "outputs": [],
   "source": [
    "# fill fiagonal entries with zeros \n",
    "np.fill_diagonal(mig_total, 0)"
   ]
  },
  {
   "cell_type": "code",
   "execution_count": 11,
   "metadata": {
    "collapsed": true
   },
   "outputs": [],
   "source": [
    "# get total migration for each state\n",
    "mig_total_stat = np.sum(mig_total, axis=1)"
   ]
  },
  {
   "cell_type": "code",
   "execution_count": 12,
   "metadata": {
    "collapsed": true
   },
   "outputs": [],
   "source": [
    "# create df of processed data \n",
    "mig_total_df = pd.DataFrame(mig_total)"
   ]
  },
  {
   "cell_type": "code",
   "execution_count": 13,
   "metadata": {
    "collapsed": true
   },
   "outputs": [],
   "source": [
    "# add states \n",
    "mig_total_df['state'] = ['Alabama', 'Alaska', 'Arizona', 'Arkansas', 'California',\n",
    "       'Colorado', 'Connecticut', 'Delaware', 'District of Columbia ',\n",
    "       'Florida', 'Georgia', 'Hawaii', 'Idaho', 'Illinois', 'Indiana',\n",
    "       'Iowa', 'Kansas', 'Kentucky', 'Louisiana', 'Maine', 'Maryland',\n",
    "       'Massachusetts', 'Michigan', 'Minnesota', 'Mississippi',\n",
    "       'Missouri', 'Montana', 'Nebraska', 'Nevada', 'New Hampshire',\n",
    "       'New Jersey', 'New Mexico', 'New York', 'North Carolina',\n",
    "       'North Dakota', 'Ohio', 'Oklahoma', 'Oregon', 'Pennsylvania',\n",
    "       'Rhode Island', 'South Carolina', 'South Dakota', 'Tennessee',\n",
    "       'Texas', 'Utah', 'Vermont', 'Virginia', 'Washington',\n",
    "       'West Virginia', 'Wisconsin', 'Wyoming']"
   ]
  },
  {
   "cell_type": "code",
   "execution_count": 14,
   "metadata": {
    "collapsed": true
   },
   "outputs": [],
   "source": [
    "# add total \n",
    "mig_total_df['total'] = mig_total_stat"
   ]
  },
  {
   "cell_type": "markdown",
   "metadata": {},
   "source": [
    "### Add Color for Region"
   ]
  },
  {
   "cell_type": "code",
   "execution_count": 100,
   "metadata": {
    "collapsed": true
   },
   "outputs": [],
   "source": [
    "# create a copy of data \n",
    "temp_df = mig_total_df[mig_total_df.columns[0:51]].copy()"
   ]
  },
  {
   "cell_type": "code",
   "execution_count": 101,
   "metadata": {
    "collapsed": true
   },
   "outputs": [],
   "source": [
    "# extract state and region info \n",
    "region = list(mig_total_df['region'].values)\n",
    "\n",
    "states = ['Alabama', 'Alaska', 'Arizona', 'Arkansas', 'California',\n",
    "       'Colorado', 'Connecticut', 'Delaware', 'District of Columbia ',\n",
    "       'Florida', 'Georgia', 'Hawaii', 'Idaho', 'Illinois', 'Indiana',\n",
    "       'Iowa', 'Kansas', 'Kentucky', 'Louisiana', 'Maine', 'Maryland',\n",
    "       'Massachusetts', 'Michigan', 'Minnesota', 'Mississippi',\n",
    "       'Missouri', 'Montana', 'Nebraska', 'Nevada', 'New Hampshire',\n",
    "       'New Jersey', 'New Mexico', 'New York', 'North Carolina',\n",
    "       'North Dakota', 'Ohio', 'Oklahoma', 'Oregon', 'Pennsylvania',\n",
    "       'Rhode Island', 'South Carolina', 'South Dakota', 'Tennessee',\n",
    "       'Texas', 'Utah', 'Vermont', 'Virginia', 'Washington',\n",
    "       'West Virginia', 'Wisconsin', 'Wyoming']"
   ]
  },
  {
   "cell_type": "code",
   "execution_count": 102,
   "metadata": {
    "collapsed": true
   },
   "outputs": [],
   "source": [
    "# map region to color \n",
    "region_color = {'Midwest':   '#8dd3c7',\n",
    "                'Northeast': '#ffffb3',\n",
    "                'South':     '#bebada',\n",
    "                'West':      '#fb8072'\n",
    "               }"
   ]
  },
  {
   "cell_type": "code",
   "execution_count": 103,
   "metadata": {
    "collapsed": true
   },
   "outputs": [],
   "source": [
    "# map region to state\n",
    "region_state = pd.DataFrame({'state': states, 'region': region})\n"
   ]
  },
  {
   "cell_type": "code",
   "execution_count": 72,
   "metadata": {
    "collapsed": true
   },
   "outputs": [],
   "source": [
    "# sort states within regions \n",
    "region_state = pd.DataFrame({'state': states, 'region': region})\n",
    "\n",
    "region_state = region_state.sort_values(by = ['region', 'state'])\n",
    "\n",
    "region_state['color'] = region_state['region'].map(region_color)\n",
    "\n",
    "sorted_states = list(region_state['state'].values)"
   ]
  },
  {
   "cell_type": "code",
   "execution_count": 64,
   "metadata": {
    "collapsed": true
   },
   "outputs": [],
   "source": [
    "# add state info\n",
    "temp_df.columns = states\n",
    "\n",
    "temp_df['state'] = states\n",
    "\n",
    "temp_df = temp_df.set_index('state')\n",
    "\n",
    "temp_df = temp_df.loc[sorted_states, sorted_states]"
   ]
  },
  {
   "cell_type": "code",
   "execution_count": 75,
   "metadata": {
    "collapsed": true
   },
   "outputs": [],
   "source": [
    "# add color \n",
    "temp_df['color'] = region_state['color'].values"
   ]
  },
  {
   "cell_type": "code",
   "execution_count": 77,
   "metadata": {
    "collapsed": true
   },
   "outputs": [],
   "source": [
    "# add region \n",
    "temp_df['region'] = region_state['region'].values"
   ]
  },
  {
   "cell_type": "code",
   "execution_count": 79,
   "metadata": {
    "collapsed": true
   },
   "outputs": [],
   "source": [
    "# save processed data into csv file\n",
    "temp_df.to_csv('migration_total_sorted_by_region.csv', index=False)"
   ]
  }
 ],
 "metadata": {
  "kernelspec": {
   "display_name": "Python 3",
   "language": "python",
   "name": "python3"
  },
  "language_info": {
   "codemirror_mode": {
    "name": "ipython",
    "version": 3
   },
   "file_extension": ".py",
   "mimetype": "text/x-python",
   "name": "python",
   "nbconvert_exporter": "python",
   "pygments_lexer": "ipython3",
   "version": "3.6.1"
  }
 },
 "nbformat": 4,
 "nbformat_minor": 2
}
