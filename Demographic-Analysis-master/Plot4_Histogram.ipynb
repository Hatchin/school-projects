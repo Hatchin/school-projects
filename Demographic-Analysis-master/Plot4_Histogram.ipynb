{
 "cells": [
  {
   "cell_type": "code",
   "execution_count": 2,
   "metadata": {
    "collapsed": true
   },
   "outputs": [],
   "source": [
    "import pandas as pd\n",
    "import numpy as np\n",
    "import plotly\n",
    "import plotly.graph_objs as go\n",
    "import plotly.plotly as py\n",
    "import plotly.tools as tls"
   ]
  },
  {
   "cell_type": "code",
   "execution_count": 3,
   "metadata": {
    "collapsed": true
   },
   "outputs": [],
   "source": [
    "# read data\n",
    "data = pd.read_csv('data/Plot4_Histogram_HouseholdIncome/ACS_13_5YR_S1901_with_ann.csv', skiprows=[0])"
   ]
  },
  {
   "cell_type": "code",
   "execution_count": 3,
   "metadata": {
    "collapsed": true
   },
   "outputs": [],
   "source": [
    "# get household info\n",
    "house_holds_col = [ col for col in data.columns if 'households' in col and 'Estimate' in col]"
   ]
  },
  {
   "cell_type": "code",
   "execution_count": 5,
   "metadata": {
    "collapsed": true
   },
   "outputs": [],
   "source": [
    "# Process household info \n",
    "house_holds_col_use = house_holds_col[1:11]\n",
    "\n",
    "house_holds_data = data[['Geography'] + house_holds_col_use]"
   ]
  },
  {
   "cell_type": "markdown",
   "metadata": {},
   "source": [
    "### Create Graph"
   ]
  },
  {
   "cell_type": "code",
   "execution_count": 8,
   "metadata": {
    "collapsed": true
   },
   "outputs": [],
   "source": [
    "# define x and y labels and values\n",
    "x_label = ['Less than<br>$10K', '\\$10K<br>to \\$15K', '\\$15K<br>to \\$25K', '\\$25K<br>to \\$35K',\n",
    "           '\\$35K<br>to \\$50K', '\\$50K<br>to \\$75K', '\\$75K<br>to \\$100K', '\\$100K<br>to \\$150K',\n",
    "           '\\$150K<br>to \\$200K', '\\$200K<br>or more']\n",
    "\n",
    "x_label = ['Less than<br>$10,000', '$10,000 <br>to 14,999', '$15,000 <br>to 24,999',\n",
    "           '$25,000 <br>to 34,999', '$35,000 <br>to 49,999', '$50,000 <br>to 74,999',\n",
    "           '$75,000 <br>to 99,999', '$100,000 <br>to 149,999', '$150,000 <br>to 199,999',\n",
    "           '$200,000 <br>or more',]\n",
    "\n",
    "x_label = ['Less than <br>$10k', '$10k <br>to 15k', '$15k <br>to 25k',\n",
    "           '$25k <br>to 35k', '$35k <br>to 50k', '$50k <br>to 75k',\n",
    "           '$75k <br>to 100k', '$100k <br>to 150k', '$150k <br>to 200k',\n",
    "           '$200k <br>or more',]\n",
    "\n",
    "y1 = house_holds_data.loc[house_holds_data['Geography'] == 'California'].values[:,1:].ravel()\n",
    "y2 = house_holds_data.loc[house_holds_data['Geography'] == 'Texas'].values[:,1:].ravel()"
   ]
  },
  {
   "cell_type": "code",
   "execution_count": 13,
   "metadata": {},
   "outputs": [
    {
     "data": {
      "text/html": [
       "<iframe id=\"igraph\" scrolling=\"no\" style=\"border:none;\" seamless=\"seamless\" src=\"https://plot.ly/~carayangqin/53.embed\" height=\"525px\" width=\"100%\"></iframe>"
      ],
      "text/plain": [
       "<plotly.tools.PlotlyDisplay object>"
      ]
     },
     "execution_count": 13,
     "metadata": {},
     "output_type": "execute_result"
    }
   ],
   "source": [
    "# plot the graph \n",
    "trace1 = go.Bar(\n",
    "    x=x_label,\n",
    "    y=list(y1),\n",
    "    name='California',\n",
    "    marker=dict(\n",
    "        color='rgb(55, 83, 109)'\n",
    "    )\n",
    ")\n",
    "trace2 = go.Bar(\n",
    "    x=x_label,\n",
    "    y=list(y2),\n",
    "    name='Texas',\n",
    "    marker=dict(\n",
    "        color='rgb(26, 118, 255)'\n",
    "    )\n",
    ")\n",
    "data = [trace1, trace2]\n",
    "layout = go.Layout(\n",
    "    title='US Households Income Distribution',\n",
    "    xaxis=dict(\n",
    "        tickfont=dict(\n",
    "            size=14,\n",
    "            color='rgb(107, 107, 107)',\n",
    "            \n",
    "        ),\n",
    "        \n",
    "        tickangle = -360\n",
    "        \n",
    "    ),\n",
    "    yaxis=dict(\n",
    "        title='Percentage (%)',\n",
    "        titlefont=dict(\n",
    "            size=16,\n",
    "            color='rgb(107, 107, 107)'\n",
    "        ),\n",
    "        tickfont=dict(\n",
    "            size=14,\n",
    "            color='rgb(107, 107, 107)'\n",
    "        )\n",
    "    ),\n",
    "    legend=dict(\n",
    "        x=1.0,\n",
    "        y=1.0,\n",
    "        bgcolor='rgba(255, 255, 255, 0)',\n",
    "        bordercolor='rgba(255, 255, 255, 0)'\n",
    "    ),\n",
    "    barmode='group',\n",
    "    bargap=0.15,\n",
    "    bargroupgap=0.1\n",
    ")\n",
    "\n",
    "fig = go.Figure(data=data, layout=layout)\n",
    "config={'showLink': False}\n",
    "py.iplot(fig, filename='style-bar')"
   ]
  },
  {
   "cell_type": "code",
   "execution_count": 12,
   "metadata": {},
   "outputs": [
    {
     "data": {
      "text/plain": [
       "'<iframe id=\"igraph\" scrolling=\"no\" style=\"border:none;\" seamless=\"seamless\" src=\"https://plot.ly/~jadeyun/38.embed\" height=\"525\" width=\"100%\"></iframe>'"
      ]
     },
     "execution_count": 12,
     "metadata": {},
     "output_type": "execute_result"
    }
   ],
   "source": [
    "# get iframe for html embedding \n",
    "tls.get_embed('https://plot.ly/~jadeyun/38/')"
   ]
  }
 ],
 "metadata": {
  "kernelspec": {
   "display_name": "Python 3",
   "language": "python",
   "name": "python3"
  },
  "language_info": {
   "codemirror_mode": {
    "name": "ipython",
    "version": 3
   },
   "file_extension": ".py",
   "mimetype": "text/x-python",
   "name": "python",
   "nbconvert_exporter": "python",
   "pygments_lexer": "ipython3",
   "version": "3.6.1"
  }
 },
 "nbformat": 4,
 "nbformat_minor": 2
}
