{
 "cells": [
  {
   "cell_type": "code",
   "execution_count": 26,
   "metadata": {
    "collapsed": true
   },
   "outputs": [],
   "source": [
    "import pandas as pd\n",
    "import plotly.plotly as py\n",
    "\n",
    "from ipywidgets import widgets \n",
    "from IPython.display import display, clear_output, Image\n",
    "from plotly.graph_objs import *\n",
    "from plotly.widgets import GraphWidget\n",
    "from plotly.grid_objs import Grid, Column\n",
    "import time\n",
    "import plotly.tools as tls\n",
    "\n",
    "from plotly.graph_objs import *\n",
    "\n",
    "import numpy as np\n",
    "import matplotlib.pyplot as plt\n",
    "\n",
    "import plotly\n",
    "import plotly.graph_objs as go\n",
    "import plotly.plotly as py\n",
    "import plotly.tools as tls"
   ]
  },
  {
   "cell_type": "code",
   "execution_count": 1,
   "metadata": {
    "collapsed": true
   },
   "outputs": [],
   "source": [
    "import plotly\n",
    "import plotly.graph_objs as go\n",
    "import plotly.plotly as py\n",
    "import plotly.tools as tls\n",
    "tls.set_credentials_file(username='jadeyun', api_key='s9BO2p3hxAu1ZYLPvxgh')"
   ]
  },
  {
   "cell_type": "markdown",
   "metadata": {},
   "source": [
    "# 1. Plot 1 - Choropleth Map"
   ]
  },
  {
   "cell_type": "markdown",
   "metadata": {},
   "source": [
    "## 1.0. Data Preparation"
   ]
  },
  {
   "cell_type": "code",
   "execution_count": 2,
   "metadata": {
    "collapsed": true
   },
   "outputs": [],
   "source": [
    "path = 'data/Plot1_Choropleth_Map_Data/'\n",
    "file_1 = '09_13_population_estimate.csv'"
   ]
  },
  {
   "cell_type": "code",
   "execution_count": 4,
   "metadata": {
    "collapsed": true
   },
   "outputs": [],
   "source": [
    "data1 = pd.read_csv(path+file_1)"
   ]
  },
  {
   "cell_type": "code",
   "execution_count": 6,
   "metadata": {
    "collapsed": true
   },
   "outputs": [],
   "source": [
    "data1['2013-2009'] = data1['2013_Total'] - data1['2009_Total']"
   ]
  },
  {
   "cell_type": "code",
   "execution_count": 7,
   "metadata": {
    "collapsed": true
   },
   "outputs": [],
   "source": [
    "data1['2010-2009'] = data1['2010_Total'] - data1['2009_Total']\n",
    "data1['2011-2009'] = data1['2011_Total'] - data1['2009_Total']\n",
    "data1['2012-2009'] = data1['2012_Total'] - data1['2009_Total']\n",
    "data1['2011-2010'] = data1['2011_Total'] - data1['2010_Total']"
   ]
  },
  {
   "cell_type": "code",
   "execution_count": 9,
   "metadata": {
    "collapsed": true
   },
   "outputs": [],
   "source": [
    "for col in data1.columns[1:]:\n",
    "    data1[col] = data1[col]/1000000\n",
    "    data1[col] = data1[col].round(2)"
   ]
  },
  {
   "cell_type": "code",
   "execution_count": 10,
   "metadata": {
    "collapsed": true
   },
   "outputs": [],
   "source": [
    "data1_melt = data1.melt(id_vars=['State'],var_name='type')\n",
    "data1_melt['year'], data1_melt['cate'] = data1_melt['type'].str.split('_', 1).str\n",
    "data1_melt = data1_melt.drop(['type'],axis=1)"
   ]
  },
  {
   "cell_type": "code",
   "execution_count": 11,
   "metadata": {
    "collapsed": true
   },
   "outputs": [],
   "source": [
    "final_df = pd.pivot_table(data1_melt, index=['State','year'], columns=['cate'],values='value')"
   ]
  },
  {
   "cell_type": "code",
   "execution_count": 12,
   "metadata": {
    "collapsed": true
   },
   "outputs": [],
   "source": [
    "final_df.reset_index(inplace=True) "
   ]
  },
  {
   "cell_type": "markdown",
   "metadata": {},
   "source": [
    "## 1.1. Import Final Data"
   ]
  },
  {
   "cell_type": "code",
   "execution_count": 13,
   "metadata": {
    "collapsed": true
   },
   "outputs": [],
   "source": [
    "df = pd.read_csv('https://raw.githubusercontent.com/plotly/datasets/master/2011_us_ag_exports.csv')\n",
    "df['state'] =[ state.strip() for state in df.state]\n",
    "new_data1 = pd.merge(final_df, df[['code','state']], left_on = 'State', right_on='state')\n",
    "new_data1 = new_data1.drop(['state'],axis=1)\n",
    "new_data1.to_csv('estimate_with_code.csv')\n",
    "\n",
    "new_file = 'estimate_with_code.csv'\n",
    "graph_2009 = pd.read_csv(path+new_file)"
   ]
  },
  {
   "cell_type": "markdown",
   "metadata": {},
   "source": [
    "## 1.2. Build Choropleth Map"
   ]
  },
  {
   "cell_type": "code",
   "execution_count": 21,
   "metadata": {
    "collapsed": true
   },
   "outputs": [],
   "source": [
    "def convert_to_string(df):\n",
    "    for col in df.columns:\n",
    "        df[col] = df[col].astype(str)\n",
    "    \n",
    "\n",
    "convert_to_string(graph_2009)"
   ]
  },
  {
   "cell_type": "code",
   "execution_count": 22,
   "metadata": {
    "collapsed": true
   },
   "outputs": [],
   "source": [
    "def add_text_column(df, new_column_name, total_colum, male_column, female_column):\n",
    "    df[new_column_name] = df['State'] + '<br>' +\\\n",
    "    'Total '+df[total_colum]+'<br>' +'Male '+df[male_column] +\\\n",
    "    '<br>' + 'Female'+ df[female_column]\n",
    "    \n",
    "add_text_column(graph_2009, 'text', 'Total','Male','Female')"
   ]
  },
  {
   "cell_type": "code",
   "execution_count": 24,
   "metadata": {},
   "outputs": [
    {
     "name": "stderr",
     "output_type": "stream",
     "text": [
      "/anaconda/envs/python3/lib/python3.6/site-packages/ipykernel_launcher.py:2: SettingWithCopyWarning:\n",
      "\n",
      "\n",
      "A value is trying to be set on a copy of a slice from a DataFrame.\n",
      "Try using .loc[row_indexer,col_indexer] = value instead\n",
      "\n",
      "See the caveats in the documentation: http://pandas.pydata.org/pandas-docs/stable/indexing.html#indexing-view-versus-copy\n",
      "\n"
     ]
    }
   ],
   "source": [
    "# split the dataframe by year\n",
    "data_2009 = graph_2009[graph_2009.year=='2009']\n",
    "data_2010 = graph_2009[graph_2009.year=='2010']\n",
    "data_2011 = graph_2009[graph_2009.year=='2011']\n",
    "data_2012 = graph_2009[graph_2009.year=='2012']\n",
    "data_2013 = graph_2009[graph_2009.year=='2013']\n",
    "\n",
    "df_list = [data_2009, data_2010, data_2011, data_2012, data_2013]\n",
    "for df in df_list:\n",
    "    add_text_column(df, 'text', 'Total','Male','Female')"
   ]
  },
  {
   "cell_type": "code",
   "execution_count": 1,
   "metadata": {
    "collapsed": true
   },
   "outputs": [],
   "source": [
    "# build color bar\n",
    "colorscl=[[0.0, 'rgb(49,54,149)'], \n",
    "            [0.1111111111111111, 'rgb(69,117,180)'], \n",
    "            [0.2222222222222222, 'rgb(116,173,209)'], \n",
    "            [0.3333333333333333, 'rgb(171,217,233)'], \n",
    "            [0.4444444444444444, 'rgb(224,243,248)'], \n",
    "            [0.5555555555555556, 'rgb(254,224,144)'], \n",
    "            [0.6666666666666666, 'rgb(253,174,97)'], \n",
    "            [0.7777777777777778, 'rgb(244,109,67)'], \n",
    "            [0.8888888888888888, 'rgb(215,48,39)'], \n",
    "            [1.0, 'rgb(165,0,38)']]"
   ]
  },
  {
   "cell_type": "code",
   "execution_count": 27,
   "metadata": {},
   "outputs": [
    {
     "data": {
      "text/html": [
       "<iframe id=\"igraph\" scrolling=\"no\" style=\"border:none;\" seamless=\"seamless\" src=\"https://plot.ly/~jadeyun/49.embed\" height=\"525px\" width=\"100%\"></iframe>"
      ],
      "text/plain": [
       "<plotly.tools.PlotlyDisplay object>"
      ]
     },
     "execution_count": 27,
     "metadata": {},
     "output_type": "execute_result"
    }
   ],
   "source": [
    "data_09 = dict(\n",
    "        type='choropleth',\n",
    "        colorscale = 'Turbid',\n",
    "        zmin = 0,\n",
    "        zmax = 40,\n",
    "        name = 'Year:<br>2009',\n",
    "        # autocolorscale = True,\n",
    "        locations = data_2009['code'],\n",
    "        z = data_2009['Total'].astype(float),\n",
    "        locationmode = 'USA-states',\n",
    "        text = data_2009['text'],\n",
    "        marker = dict(\n",
    "            line = dict (\n",
    "                color = 'rgb(145,191,219)',\n",
    "                width = 2\n",
    "            ) ),\n",
    "        colorbar = dict(\n",
    "            title = 'Million People')\n",
    "        ) \n",
    "\n",
    "data_10 = dict(\n",
    "        type='choropleth',\n",
    "        colorscale = 'Turbid',\n",
    "        zmin = 0,\n",
    "        zmax = 40,\n",
    "        name = 'Year:<br>2010',\n",
    "        # autocolorscale = True,\n",
    "        locations = data_2010['code'],\n",
    "        z = data_2010['Total'].astype(float),\n",
    "        locationmode = 'USA-states',\n",
    "        text = data_2010['text'],\n",
    "        marker = dict(\n",
    "            line = dict (\n",
    "                color = 'rgb(145,191,219)',\n",
    "                width = 2\n",
    "            ) ),\n",
    "        colorbar = dict(\n",
    "            title = 'Million People')\n",
    "        ) \n",
    "\n",
    "data_11 = dict(\n",
    "        type='choropleth',\n",
    "        colorscale = 'Turbid',\n",
    "        zmin = 0,\n",
    "        zmax = 40,\n",
    "        name = 'Year:<br>2011',\n",
    "        # autocolorscale = True,\n",
    "        locations = data_2011['code'],\n",
    "        z = data_2011['Total'].astype(float),\n",
    "        locationmode = 'USA-states',\n",
    "        text = data_2011['text'],\n",
    "        marker = dict(\n",
    "            line = dict (\n",
    "                color = 'rgb(145,191,219)',\n",
    "                width = 2\n",
    "            ) ),\n",
    "        colorbar = dict(\n",
    "            title = 'Million People')\n",
    "        ) \n",
    "\n",
    "data_12 = dict(\n",
    "        type='choropleth',\n",
    "        colorscale = 'Turbid',\n",
    "        zmin = 0,\n",
    "        zmax = 40,\n",
    "        name = 'Year:<br>2012',\n",
    "        # autocolorscale = True,\n",
    "        locations = data_2012['code'],\n",
    "        z = data_2012['Total'].astype(float),\n",
    "        locationmode = 'USA-states',\n",
    "        text = data_2012['text'],\n",
    "        marker = dict(\n",
    "            line = dict (\n",
    "                color = 'rgb(145,191,219)',\n",
    "                width = 2\n",
    "            ) ),\n",
    "        colorbar = dict(\n",
    "            title = 'Million People')\n",
    "        ) \n",
    "\n",
    "data_13 = dict(\n",
    "        type='choropleth',\n",
    "        colorscale = 'Turbid',\n",
    "        zmin = 0,\n",
    "        zmax = 40,\n",
    "        name = 'Year:<br>2013',\n",
    "        # autocolorscale = True,\n",
    "        locations = data_2013['code'],\n",
    "        z = data_2013['Total'].astype(float),\n",
    "        locationmode = 'USA-states',\n",
    "        text = data_2013['text'],\n",
    "        marker = dict(\n",
    "            line = dict (\n",
    "                color = 'rgb(145,191,219)',\n",
    "                width = 2\n",
    "            ) ),\n",
    "        colorbar = dict(\n",
    "            title = 'Million People')\n",
    "        )\n",
    "\n",
    "data = [data_09, data_10, data_11,data_12,data_13]\n",
    "\n",
    "updatemenus = list([\n",
    "    dict(# active=-1,\n",
    "         buttons=list([   \n",
    "            dict(label = '2009',\n",
    "                 method = 'update',\n",
    "                 args = [{'visible': [True, False, False, False, False]},\n",
    "                         {'title': 'US Poplution by State<br>(Hover for breakdown)'}]),\n",
    "            dict(label = '2010',\n",
    "                 method = 'update',\n",
    "                 args = [{'visible': [False,True, False, False, False]},\n",
    "                         {'title': 'US Poplution by State<br>(Hover for breakdown)'}]),\n",
    "            dict(label = '2011',\n",
    "                 method = 'update',\n",
    "                 args = [{'visible': [False, False, True, False, False]},\n",
    "                         {'title': 'US Poplution by State<br>(Hover for breakdown)'}]),\n",
    "            dict(label = '2012',\n",
    "                 method = 'update',\n",
    "                 args = [{'visible': [False, False, False, True, False]},\n",
    "                         {'title': 'US Poplution by State<br>(Hover for breakdown)'}]),\n",
    "             dict(label = '2013',\n",
    "                 method = 'update',\n",
    "                 args = [{'visible': [False, False, False,False, True]},\n",
    "                         {'title': 'US Poplution by State<br>(Hover for breakdown)'}]),\n",
    "             dict(label = 'Reset',\n",
    "                 method = 'update',\n",
    "                 args = [{'visible': [True, False, False, False, False]},\n",
    "                         {'title': 'US Poplution by State<br>(Hover for breakdown)'}])\n",
    "        ]),\n",
    "    )\n",
    "])\n",
    "\n",
    "annotations = list([\n",
    "    dict(text='Year', x=-0.15, y=1.06, yref='paper', align='left', showarrow=False )])\n",
    "\n",
    "layout = dict(\n",
    "        title = 'US Poplution by State<br>(Hover for breakdown)',\n",
    "        geo = dict(\n",
    "            scope='usa',\n",
    "            projection=dict( type='albers usa' ),\n",
    "            showlakes = True,\n",
    "            lakecolor = 'rgb(49,54,149)')\n",
    "        # colorscale = 'Turbid'\n",
    "             )\n",
    "layout['updatemenus'] = updatemenus\n",
    "layout['annotations'] = annotations\n",
    "    \n",
    "fig = dict( data=data, layout=layout )\n",
    "\n",
    "py.iplot( fig, filename='d3-cloropleth-map' )"
   ]
  },
  {
   "cell_type": "code",
   "execution_count": 28,
   "metadata": {},
   "outputs": [
    {
     "data": {
      "text/plain": [
       "'<iframe id=\"igraph\" scrolling=\"no\" style=\"border:none;\" seamless=\"seamless\" src=\"https://plot.ly/~hatchin/66.embed\" height=\"525\" width=\"100%\"></iframe>'"
      ]
     },
     "execution_count": 28,
     "metadata": {},
     "output_type": "execute_result"
    }
   ],
   "source": [
    "# get the html for embedding\n",
    "tls.get_embed('https://plot.ly/~hatchin/66')"
   ]
  },
  {
   "cell_type": "markdown",
   "metadata": {},
   "source": [
    "# 2. Plot 3 - Bubble Animation"
   ]
  },
  {
   "cell_type": "markdown",
   "metadata": {},
   "source": [
    "## 2.0. Data Preparation"
   ]
  },
  {
   "cell_type": "code",
   "execution_count": 5,
   "metadata": {
    "collapsed": true
   },
   "outputs": [],
   "source": [
    "gdp_file = 'data/Plot3_GDP_BubbleAnimation/gdp_population_state.csv'\n",
    "gdp_data = pd.read_csv(gdp_file)"
   ]
  },
  {
   "cell_type": "code",
   "execution_count": 36,
   "metadata": {
    "collapsed": true
   },
   "outputs": [],
   "source": [
    "years_from_col = set(gdp_data['Year'])\n",
    "years_ints = sorted(list(years_from_col))\n",
    "years = [str(year) for year in years_ints]"
   ]
  },
  {
   "cell_type": "code",
   "execution_count": 37,
   "metadata": {
    "collapsed": true
   },
   "outputs": [],
   "source": [
    "regions = list(set(gdp_data.Region))"
   ]
  },
  {
   "cell_type": "markdown",
   "metadata": {},
   "source": [
    "## 2.1 Make Grids"
   ]
  },
  {
   "cell_type": "code",
   "execution_count": 39,
   "metadata": {
    "collapsed": true
   },
   "outputs": [],
   "source": [
    "columns = []\n",
    "# make grid\n",
    "for year in years:\n",
    "    for region in regions:\n",
    "        dataset_by_year = gdp_data[gdp_data['Year'] == int(year)]\n",
    "        dataset_by_year_and_region = dataset_by_year[dataset_by_year['Region'] == region]\n",
    "        for col_name in dataset_by_year_and_region:\n",
    "            # each column name is unique\n",
    "            column_name = '{year}_{continent}_{header}_gapminder_grid'.format(\n",
    "                year=year, continent=region, header=col_name\n",
    "            )\n",
    "            a_column = Column(list(dataset_by_year_and_region[col_name]), column_name)\n",
    "            columns.append(a_column)\n",
    "            \n",
    "# upload grid\n",
    "grid = Grid(columns)\n",
    "url = py.grid_ops.upload(grid, 'gapminder_grid'+str(time.time()), auto_open=False)"
   ]
  },
  {
   "cell_type": "markdown",
   "metadata": {},
   "source": [
    "## 2.2 Make Figures"
   ]
  },
  {
   "cell_type": "code",
   "execution_count": 40,
   "metadata": {
    "collapsed": true
   },
   "outputs": [],
   "source": [
    "figure = {\n",
    "    'data': [],\n",
    "    'layout': {},\n",
    "    'frames': [],\n",
    "    'config': {'scrollzoom': True}\n",
    "}\n",
    "\n",
    "# fill in most of layout\n",
    "figure['layout']['xaxis'] = {'range': [0, 45], 'title': 'Population', 'gridcolor': '#FFFFFF'}\n",
    "figure['layout']['yaxis'] = {'range': [0, 15],'title': 'GDP', 'gridcolor': '#FFFFFF'}\n",
    "figure['layout']['hovermode'] = 'closest'\n",
    "figure['layout']['plot_bgcolor'] = 'rgb(223, 232, 243)'\n",
    "figure['layout']['title'] = 'Relationship Between GDP and Population'"
   ]
  },
  {
   "cell_type": "code",
   "execution_count": 41,
   "metadata": {
    "collapsed": true
   },
   "outputs": [],
   "source": [
    "figure['layout']['sliders'] = {\n",
    "    'active': 0,\n",
    "    'yanchor': 'top',\n",
    "    'xanchor': 'left',\n",
    "    'currentvalue': {\n",
    "        'font': {'size': 20},\n",
    "        'prefix': 'text-before-value-on-display',\n",
    "        'visible': True,\n",
    "        'xanchor': 'right'\n",
    "    },\n",
    "    'transition': {'duration': 300, 'easing': 'cubic-in-out'},\n",
    "    'pad': {'b': 10, 't': 50},\n",
    "    'len': 0.9,\n",
    "    'x': 0.1,\n",
    "    'y': 0,\n",
    "    'steps': []\n",
    "}\n",
    "\n",
    "sliders_dict = {\n",
    "    'active': 0,\n",
    "    'yanchor': 'top',\n",
    "    'xanchor': 'left',\n",
    "    'currentvalue': {\n",
    "        'font': {'size': 20},\n",
    "        'prefix': 'Year:',\n",
    "        'visible': True,\n",
    "        'xanchor': 'right'\n",
    "    },\n",
    "    'transition': {'duration': 300, 'easing': 'cubic-in-out'},\n",
    "    'pad': {'b': 10, 't': 50},\n",
    "    'len': 0.9,\n",
    "    'x': 0.1,\n",
    "    'y': 0,\n",
    "    'steps': []\n",
    "}"
   ]
  },
  {
   "cell_type": "code",
   "execution_count": 42,
   "metadata": {
    "collapsed": true
   },
   "outputs": [],
   "source": [
    "figure['layout']['updatemenus'] = [\n",
    "    {\n",
    "        'buttons': [\n",
    "            {\n",
    "                'args': [None, {'frame': {'duration': 500, 'redraw': False},\n",
    "                         'fromcurrent': True, 'transition': {'duration': 300, 'easing': 'quadratic-in-out'}}],\n",
    "                'label': 'Play',\n",
    "                'method': 'animate'\n",
    "            },\n",
    "            {\n",
    "                'args': [[None], {'frame': {'duration': 0, 'redraw': False}, 'mode': 'immediate',\n",
    "                'transition': {'duration': 0}}],\n",
    "                'label': 'Pause',\n",
    "                'method': 'animate'\n",
    "            }\n",
    "        ],\n",
    "        'direction': 'left',\n",
    "        'pad': {'r': 10, 't': 87},\n",
    "        'showactive': False,\n",
    "        'type': 'buttons',\n",
    "        'x': 0.1,\n",
    "        'xanchor': 'right',\n",
    "        'y': 0,\n",
    "        'yanchor': 'top'\n",
    "    }\n",
    "]\n",
    "\n",
    "custom_colors = {\n",
    "    'Midwest': 'rgb(171, 99, 250)',\n",
    "    'Northeast': 'rgb(230, 99, 250)',\n",
    "    'West': 'rgb(99, 110, 250)',\n",
    "    'South': 'rgb(25, 211, 243)'\n",
    "}"
   ]
  },
  {
   "cell_type": "markdown",
   "metadata": {},
   "source": [
    "## 2.4. Make the Plot"
   ]
  },
  {
   "cell_type": "code",
   "execution_count": 43,
   "metadata": {
    "collapsed": true
   },
   "outputs": [],
   "source": [
    "col_name_template = '{year}_{continent}_{header}_gapminder_grid'\n",
    "year = 2009\n",
    "for continent in regions:\n",
    "    data_dict = {\n",
    "        'xsrc': grid.get_column_reference(col_name_template.format(\n",
    "            year=year, continent=continent, header='Population'\n",
    "        )),\n",
    "        'ysrc': grid.get_column_reference(col_name_template.format(\n",
    "            year=year, continent=continent, header='GDP'\n",
    "        )),\n",
    "        'mode': 'markers',\n",
    "        'textsrc': grid.get_column_reference(col_name_template.format(\n",
    "            year=year, continent=continent, header='State'\n",
    "        )),\n",
    "        'marker': {\n",
    "            'sizemode': 'area',\n",
    "            'sizeref': .01,\n",
    "            'sizesrc': grid.get_column_reference(col_name_template.format(\n",
    "                 year=year, continent=continent, header='GDP'\n",
    "            )),\n",
    "            'color': custom_colors[continent]\n",
    "        },\n",
    "        'name': continent\n",
    "    }\n",
    "    figure['data'].append(data_dict)"
   ]
  },
  {
   "cell_type": "code",
   "execution_count": 44,
   "metadata": {
    "collapsed": true
   },
   "outputs": [],
   "source": [
    "for year in years:\n",
    "    frame = {'data': [], 'name': str(year)}\n",
    "    for continent in regions:\n",
    "        data_dict = {\n",
    "            'xsrc': grid.get_column_reference(col_name_template.format(\n",
    "                year=year, continent=continent, header='Population'\n",
    "            )),\n",
    "            'ysrc': grid.get_column_reference(col_name_template.format(\n",
    "                year=year, continent=continent, header='GDP'\n",
    "            )),\n",
    "            'mode': 'markers',\n",
    "            'textsrc': grid.get_column_reference(col_name_template.format(\n",
    "                year=year, continent=continent, header='State'\n",
    "                )),\n",
    "            'marker': {\n",
    "                'sizemode': 'area',\n",
    "                'sizeref': 0.1,\n",
    "                'sizesrc': grid.get_column_reference(col_name_template.format(\n",
    "                    year=year, continent=continent, header='GDP'\n",
    "                )),\n",
    "                'color': custom_colors[continent]\n",
    "            },\n",
    "            'name': continent\n",
    "        }\n",
    "        frame['data'].append(data_dict)\n",
    "\n",
    "    figure['frames'].append(frame)\n",
    "    slider_step = {'args': [\n",
    "        [year],\n",
    "        {'frame': {'duration': 300, 'redraw': False},\n",
    "         'mode': 'immediate',\n",
    "       'transition': {'duration': 300}}\n",
    "     ],\n",
    "     'label': year,\n",
    "     'method': 'animate'}\n",
    "    sliders_dict['steps'].append(slider_step)\n",
    "\n",
    "figure['layout']['sliders'] = [sliders_dict]\n",
    "#figure['layout']['legend'] = {'x': 0, 'y': 1}"
   ]
  },
  {
   "cell_type": "code",
   "execution_count": 45,
   "metadata": {
    "scrolled": false
   },
   "outputs": [
    {
     "data": {
      "text/html": [
       "<iframe id=\"igraph\" scrolling=\"no\" style=\"border:none;\" seamless=\"seamless\" src=\"https://plot.ly/~jadeyun/52.embed\" height=\"525px\" width=\"100%\"></iframe>"
      ],
      "text/plain": [
       "<plotly.tools.PlotlyDisplay object>"
      ]
     },
     "execution_count": 45,
     "metadata": {},
     "output_type": "execute_result"
    }
   ],
   "source": [
    "py.icreate_animations(figure, 'gapminder_examplee')"
   ]
  },
  {
   "cell_type": "code",
   "execution_count": 46,
   "metadata": {},
   "outputs": [
    {
     "data": {
      "text/plain": [
       "'<iframe id=\"igraph\" scrolling=\"no\" style=\"border:none;\" seamless=\"seamless\" src=\"https://plot.ly/~hatchin/132.embed\" height=\"525\" width=\"100%\"></iframe>'"
      ]
     },
     "execution_count": 46,
     "metadata": {},
     "output_type": "execute_result"
    }
   ],
   "source": [
    "# get the html for embedding\n",
    "tls.get_embed('https://plot.ly/~hatchin/132')"
   ]
  },
  {
   "cell_type": "markdown",
   "metadata": {},
   "source": [
    "# 3. Plot 5 - Horizontal Bar Chart"
   ]
  },
  {
   "cell_type": "markdown",
   "metadata": {},
   "source": [
    "## 3.0. Data Preparation"
   ]
  },
  {
   "cell_type": "code",
   "execution_count": 3,
   "metadata": {
    "collapsed": true
   },
   "outputs": [],
   "source": [
    "path = './data/Plot5_Histogram_Industry/'"
   ]
  },
  {
   "cell_type": "code",
   "execution_count": 4,
   "metadata": {
    "collapsed": true
   },
   "outputs": [],
   "source": [
    "ind_09 = 'industry_09.csv'\n",
    "ind_10 = 'industry_10.csv'\n",
    "ind_11 = 'industry_11.csv'\n",
    "ind_12 = 'industry_12.csv'\n",
    "ind_13 = 'industry_13.csv'"
   ]
  },
  {
   "cell_type": "code",
   "execution_count": 5,
   "metadata": {
    "scrolled": true
   },
   "outputs": [
    {
     "name": "stderr",
     "output_type": "stream",
     "text": [
      "/Users/shen/anaconda/envs/python36/lib/python3.6/site-packages/IPython/core/interactiveshell.py:2698: DtypeWarning:\n",
      "\n",
      "Columns (1,5,7) have mixed types. Specify dtype option on import or set low_memory=False.\n",
      "\n"
     ]
    }
   ],
   "source": [
    "ind_df09 = pd.read_csv(path+ind_09)\n",
    "ind_df10 = pd.read_csv(path+ind_10)\n",
    "ind_df11 = pd.read_csv(path+ind_11)\n",
    "ind_df12 = pd.read_csv(path+ind_12)\n",
    "ind_df13 = pd.read_csv(path+ind_13)"
   ]
  },
  {
   "cell_type": "code",
   "execution_count": 8,
   "metadata": {
    "collapsed": true
   },
   "outputs": [],
   "source": [
    "ind_df11 = ind_df11.rename(columns={'NESTAB':'ESTAB','NRCPTOT':'RCPTOT'})\n",
    "ind_df12 = ind_df12.rename(columns={'NESTAB':'ESTAB','NRCPTOT':'RCPTOT'})\n",
    "ind_df13 = ind_df13.rename(columns={'NESTAB':'ESTAB','NRCPTOT':'RCPTOT'})"
   ]
  },
  {
   "cell_type": "code",
   "execution_count": 9,
   "metadata": {
    "collapsed": true
   },
   "outputs": [],
   "source": [
    "ind_df09 = ind_df09.drop(0)\n",
    "ind_df10 = ind_df10.drop(0)\n",
    "ind_df11 = ind_df11.drop(0)\n",
    "ind_df12 = ind_df12.drop(0)\n",
    "ind_df13 = ind_df13.drop(0)"
   ]
  },
  {
   "cell_type": "code",
   "execution_count": 10,
   "metadata": {
    "collapsed": true
   },
   "outputs": [],
   "source": [
    "def append_df(df_list):\n",
    "    df = ind_df09\n",
    "    for d in df_list:\n",
    "        df = df.append(d, ignore_index=True)\n",
    "    return df"
   ]
  },
  {
   "cell_type": "code",
   "execution_count": 11,
   "metadata": {
    "collapsed": true
   },
   "outputs": [],
   "source": [
    "all_df= append_df([ind_df10, ind_df11,ind_df12,ind_df13])"
   ]
  },
  {
   "cell_type": "code",
   "execution_count": 12,
   "metadata": {
    "collapsed": true
   },
   "outputs": [],
   "source": [
    "# all_df = all_df.drop(['NESTAB','NRCPTOT','GEO.id','GEO.id2'],axis=1)\n",
    "\n",
    "all_df = all_df.drop(['GEO.id','GEO.id2'],axis=1)"
   ]
  },
  {
   "cell_type": "code",
   "execution_count": 13,
   "metadata": {
    "collapsed": true
   },
   "outputs": [],
   "source": [
    "all_df['code'] = [str(num[:2]) for num in all_df['NAICS.id']]"
   ]
  },
  {
   "cell_type": "code",
   "execution_count": 14,
   "metadata": {
    "collapsed": true
   },
   "outputs": [],
   "source": [
    "naics_data = {'code':['00',11,21,22,23,31,32,33,42,44,45,48,49,51,52,53,54,55,56,61,62,71,72,81,92],\n",
    "             'name' : ['All','AGRI, Forestry, Fishing and Hunting','Mining',\n",
    "                      'Utilities','Construction','Manufacturing','Manufacturing','Manufacturing',\n",
    "                       'Wholesale Trade', 'Retail Trade','Retail Trade','Trans and WHS',\n",
    "                      'Trans and WHS','Information','Finance and Insurance',\n",
    "                      'Real Estate Rental and Leasing','Pro, Science, and Technical SVC',\n",
    "                      'Management','Waste MGMT and Remediation Services',\n",
    "                      'Educational Services','Health Care and Social Assistance','Arts, Entmt, and Recreation',\n",
    "                      'Accommodation and Food Services','Other Services',\n",
    "                      'Public Administration']}\n",
    "naics_df =pd.DataFrame(data = naics_data)\n"
   ]
  },
  {
   "cell_type": "code",
   "execution_count": 15,
   "metadata": {
    "collapsed": true
   },
   "outputs": [],
   "source": [
    "naics_df['code'] = [str(a) for a in naics_df['code']]"
   ]
  },
  {
   "cell_type": "code",
   "execution_count": 16,
   "metadata": {
    "collapsed": true
   },
   "outputs": [],
   "source": [
    "whole_df = pd.merge(all_df, naics_df, on='code')"
   ]
  },
  {
   "cell_type": "code",
   "execution_count": 17,
   "metadata": {
    "collapsed": true
   },
   "outputs": [],
   "source": [
    "selected = whole_df[whole_df['GEO.display-label'] == 'California']\n",
    "selected_2009 = selected[selected['YEAR.id'] =='2009']\n",
    "selected_2010 = selected[selected['YEAR.id'] =='2010']\n",
    "selected_2011 = selected[selected['YEAR.id'] =='2011']\n",
    "selected_2012 = selected[selected['YEAR.id'] =='2012']\n",
    "selected_2013 = selected[selected['YEAR.id'] =='2013']"
   ]
  },
  {
   "cell_type": "code",
   "execution_count": 18,
   "metadata": {
    "collapsed": true
   },
   "outputs": [],
   "source": [
    "wh_2009 = selected_2009[selected_2009['RCPTOT'] != 'D']\n",
    "wh_2010 = selected_2010[selected_2010['RCPTOT'] != 'D']\n",
    "wh_2011 = selected_2011[selected_2011['RCPTOT'] != 'D']\n",
    "wh_2012 = selected_2012[selected_2012['RCPTOT'] != 'D']\n",
    "wh_2013 = selected_2013[selected_2013['RCPTOT'] != 'D']"
   ]
  },
  {
   "cell_type": "code",
   "execution_count": 19,
   "metadata": {
    "scrolled": true
   },
   "outputs": [
    {
     "name": "stderr",
     "output_type": "stream",
     "text": [
      "/Users/shen/anaconda/envs/python36/lib/python3.6/site-packages/ipykernel_launcher.py:1: SettingWithCopyWarning:\n",
      "\n",
      "\n",
      "A value is trying to be set on a copy of a slice from a DataFrame.\n",
      "Try using .loc[row_indexer,col_indexer] = value instead\n",
      "\n",
      "See the caveats in the documentation: http://pandas.pydata.org/pandas-docs/stable/indexing.html#indexing-view-versus-copy\n",
      "\n",
      "/Users/shen/anaconda/envs/python36/lib/python3.6/site-packages/ipykernel_launcher.py:2: SettingWithCopyWarning:\n",
      "\n",
      "\n",
      "A value is trying to be set on a copy of a slice from a DataFrame.\n",
      "Try using .loc[row_indexer,col_indexer] = value instead\n",
      "\n",
      "See the caveats in the documentation: http://pandas.pydata.org/pandas-docs/stable/indexing.html#indexing-view-versus-copy\n",
      "\n",
      "/Users/shen/anaconda/envs/python36/lib/python3.6/site-packages/ipykernel_launcher.py:3: SettingWithCopyWarning:\n",
      "\n",
      "\n",
      "A value is trying to be set on a copy of a slice from a DataFrame.\n",
      "Try using .loc[row_indexer,col_indexer] = value instead\n",
      "\n",
      "See the caveats in the documentation: http://pandas.pydata.org/pandas-docs/stable/indexing.html#indexing-view-versus-copy\n",
      "\n",
      "/Users/shen/anaconda/envs/python36/lib/python3.6/site-packages/ipykernel_launcher.py:4: SettingWithCopyWarning:\n",
      "\n",
      "\n",
      "A value is trying to be set on a copy of a slice from a DataFrame.\n",
      "Try using .loc[row_indexer,col_indexer] = value instead\n",
      "\n",
      "See the caveats in the documentation: http://pandas.pydata.org/pandas-docs/stable/indexing.html#indexing-view-versus-copy\n",
      "\n",
      "/Users/shen/anaconda/envs/python36/lib/python3.6/site-packages/ipykernel_launcher.py:5: SettingWithCopyWarning:\n",
      "\n",
      "\n",
      "A value is trying to be set on a copy of a slice from a DataFrame.\n",
      "Try using .loc[row_indexer,col_indexer] = value instead\n",
      "\n",
      "See the caveats in the documentation: http://pandas.pydata.org/pandas-docs/stable/indexing.html#indexing-view-versus-copy\n",
      "\n"
     ]
    }
   ],
   "source": [
    "wh_2009['RCPTOT'] = wh_2009['RCPTOT'].astype('float')\n",
    "wh_2010['RCPTOT'] = wh_2010['RCPTOT'].astype('float')\n",
    "wh_2011['RCPTOT'] = wh_2011['RCPTOT'].astype('float')\n",
    "wh_2012['RCPTOT'] = wh_2012['RCPTOT'].astype('float')\n",
    "wh_2013['RCPTOT'] = wh_2013['RCPTOT'].astype('float')"
   ]
  },
  {
   "cell_type": "code",
   "execution_count": 20,
   "metadata": {
    "collapsed": true
   },
   "outputs": [],
   "source": [
    "wh_2009 = wh_2009.drop(['ESTAB'],axis=1)\n",
    "wh_2010 = wh_2010.drop(['ESTAB'],axis=1)\n",
    "wh_2011 = wh_2011.drop(['ESTAB'],axis=1)\n",
    "wh_2012 = wh_2012.drop(['ESTAB'],axis=1)\n",
    "wh_2013 = wh_2013.drop(['ESTAB'],axis=1)"
   ]
  },
  {
   "cell_type": "code",
   "execution_count": 21,
   "metadata": {
    "collapsed": true
   },
   "outputs": [],
   "source": [
    "def group_function(whs):\n",
    "    groups = []\n",
    "    for wh in whs:\n",
    "        group = wh.groupby(['name','GEO.display-label','code','YEAR.id',]).sum()\n",
    "        group = group.reset_index()\n",
    "        group.RCPTOT = group.RCPTOT/1000000\n",
    "\n",
    "        group = group[group.name != 'All']\n",
    "        group = group.sort_values(by='RCPTOT', ascending=True)\n",
    "        #print (len(group))\n",
    "        groups.append(group)\n",
    "        #print (len(groups))\n",
    "    return groups"
   ]
  },
  {
   "cell_type": "code",
   "execution_count": 22,
   "metadata": {
    "collapsed": true
   },
   "outputs": [],
   "source": [
    "wh_list = [wh_2009, wh_2010, wh_2011, wh_2012, wh_2013]\n",
    "groups_df_list = group_function(wh_list)"
   ]
  },
  {
   "cell_type": "markdown",
   "metadata": {
    "collapsed": true
   },
   "source": [
    "## 3.1. Make the plot"
   ]
  },
  {
   "cell_type": "code",
   "execution_count": 46,
   "metadata": {},
   "outputs": [
    {
     "data": {
      "text/html": [
       "<iframe id=\"igraph\" scrolling=\"no\" style=\"border:none;\" seamless=\"seamless\" src=\"https://plot.ly/~hatchin/121.embed\" height=\"525px\" width=\"100%\"></iframe>"
      ],
      "text/plain": [
       "<plotly.tools.PlotlyDisplay object>"
      ]
     },
     "execution_count": 46,
     "metadata": {},
     "output_type": "execute_result"
    }
   ],
   "source": [
    "trace1 = Bar(\n",
    "    y=[a for a in groups_df_list[0].name.unique()],  # a list of string as x-coords\n",
    "    x=groups_df_list[0].RCPTOT,   # 1d array of numbers as y-coords\n",
    "    marker=Marker(color='#E3BA22'),  # set bar color (hex color model)\n",
    "    orientation = 'h',\n",
    "    name = 'Year:2009'\n",
    "    )\n",
    "trace2 = Bar(\n",
    "    y=[a for a in groups_df_list[1].name.unique()],  # a list of string as x-coords\n",
    "    x=groups_df_list[1].RCPTOT,   # 1d array of numbers as y-coords\n",
    "    marker=Marker(color='#rgb(244,109,67)'),  # set bar color (hex color model)\n",
    "    orientation = 'h',\n",
    "    name = 'Year:2010'\n",
    "    )\n",
    "\n",
    "trace3 = Bar(\n",
    "    y=[a for a in groups_df_list[2].name.unique()],  # a list of string as x-coords\n",
    "    x=groups_df_list[2].RCPTOT,   # 1d array of numbers as y-coords\n",
    "    marker=Marker(color='#rgb(99, 110, 250)'),  # set bar color (hex color model)\n",
    "    orientation = 'h',\n",
    "    name = 'Year:2011'\n",
    "    )\n",
    "trace4 = Bar(\n",
    "    y=[a for a in groups_df_list[3].name.unique()],  # a list of string as x-coords\n",
    "    x=groups_df_list[3].RCPTOT,   # 1d array of numbers as y-coords\n",
    "    marker=Marker(color='rgb(25, 211, 243)'),  # set bar color (hex color model)\n",
    "    orientation = 'h',\n",
    "    name = 'Year:2012'\n",
    "    )\n",
    "\n",
    "trace5 = Bar(\n",
    "    y=[a for a in groups_df_list[4].name.unique()],  # a list of string as x-coords\n",
    "    x=groups_df_list[4].RCPTOT,   # 1d array of numbers as y-coords\n",
    "    marker=Marker(color='rgb(171, 99, 250)'),  # set bar color (hex color model)\n",
    "    orientation = 'h',\n",
    "    name = 'Year:2013'\n",
    "    )\n",
    "\n",
    "\n",
    "data = [trace1, trace2, trace3,trace4,trace5]\n",
    "\n",
    "updatemenus = list([\n",
    "    dict(# active=-1,\n",
    "         buttons=list([   \n",
    "            dict(label = '2009',\n",
    "                 method = 'update',\n",
    "                 args = [{'visible': [True, False, False, False, False]},\n",
    "                         {'title': 'California Sales Value'}]),\n",
    "            dict(label = '2010',\n",
    "                 method = 'update',\n",
    "                 args = [{'visible': [False,True, False, False, False]},\n",
    "                         {'title': 'California Sales Value'}]),\n",
    "            dict(label = '2011',\n",
    "                 method = 'update',\n",
    "                 args = [{'visible': [False, False, True, False, False]},\n",
    "                         {'title': 'California Sales Value'}]),\n",
    "            dict(label = '2012',\n",
    "                 method = 'update',\n",
    "                 args = [{'visible': [False, False, False, True, False]},\n",
    "                         {'title': 'California Sales Value'}]),\n",
    "             dict(label = '2013',\n",
    "                 method = 'update',\n",
    "                 args = [{'visible': [False, False, False,False, True]},\n",
    "                         {'title': 'California Sales Value'}]),\n",
    "             dict(label = 'Reset',\n",
    "                 method = 'update',\n",
    "                 args = [{'visible': [True, False, False, False, False]},\n",
    "                         {'title': 'California Sales Value'}])\n",
    "        ]),\n",
    "        direction = 'left',\n",
    "        pad = {'r': 10, 't': 10},\n",
    "        showactive = True,\n",
    "        type = 'buttons',\n",
    "        x = 0.1,\n",
    "        xanchor = 'left',\n",
    "        y = 1.15,\n",
    "        yanchor = 'top' \n",
    "    )\n",
    "])\n",
    "\n",
    "annotations = list([\n",
    "    dict(text='Year', x=2.15, y=1.1, yref='paper', align='left', showarrow=False )])\n",
    "\n",
    "layout = Layout(\n",
    "    title='California Sales Value',       # set plot title\n",
    "    showlegend=False,  # remove legend\n",
    "    xaxis= XAxis(\n",
    "        title=' Sales Value', # y-axis title\n",
    "        range=[0,80],              # set range\n",
    "        zeroline=False,                  # remove thick line at y=0\n",
    "        gridcolor='white'                # set grid color to white\n",
    "    ),\n",
    "    margin = go.Margin(l=225),\n",
    "    #paper_bgcolor='rgb(233,233,233)',  # set paper (outside plot) \n",
    "    #plot_bgcolor='rgb(233,233,233)',   #   and plot color to grey\n",
    "    \n",
    ")\n",
    "\n",
    "layout['updatemenus'] = updatemenus\n",
    "layout['annotations'] = annotations\n",
    "    \n",
    "fig = dict( data=data, layout=layout )\n",
    "\n",
    "py.iplot( fig, filename='d3-bar-map' )"
   ]
  },
  {
   "cell_type": "code",
   "execution_count": 202,
   "metadata": {},
   "outputs": [
    {
     "data": {
      "text/plain": [
       "'<iframe id=\"igraph\" scrolling=\"no\" style=\"border:none;\" seamless=\"seamless\" src=\"https://plot.ly/~hatchin/121.embed\" height=\"525\" width=\"100%\"></iframe>'"
      ]
     },
     "execution_count": 202,
     "metadata": {},
     "output_type": "execute_result"
    }
   ],
   "source": [
    "tls.get_embed('https://plot.ly/~hatchin/121')"
   ]
  },
  {
   "cell_type": "code",
   "execution_count": null,
   "metadata": {
    "collapsed": true
   },
   "outputs": [],
   "source": []
  }
 ],
 "metadata": {
  "kernelspec": {
   "display_name": "Python 3",
   "language": "python",
   "name": "python3"
  },
  "language_info": {
   "codemirror_mode": {
    "name": "ipython",
    "version": 3
   },
   "file_extension": ".py",
   "mimetype": "text/x-python",
   "name": "python",
   "nbconvert_exporter": "python",
   "pygments_lexer": "ipython3",
   "version": "3.6.3"
  }
 },
 "nbformat": 4,
 "nbformat_minor": 2
}
