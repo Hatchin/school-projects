{
 "cells": [
  {
   "cell_type": "markdown",
   "metadata": {},
   "source": [
    "## Homework: Network Visualization using networkx\n",
    "## Author: Sangyu Shen\n"
   ]
  },
  {
   "cell_type": "code",
   "execution_count": 1,
   "metadata": {
    "collapsed": true
   },
   "outputs": [],
   "source": [
    "import plotly.plotly as py\n",
    "import matplotlib.pyplot as plt\n",
    "import numpy as np\n",
    "import pandas as pd\n",
    "import networkx as nx\n",
    "import csv\n",
    "import plotly.graph_objs as go\n",
    "from plotly.graph_objs import *"
   ]
  },
  {
   "cell_type": "markdown",
   "metadata": {},
   "source": [
    "# 1. Create and visualize a graph "
   ]
  },
  {
   "cell_type": "code",
   "execution_count": 2,
   "metadata": {
    "collapsed": true
   },
   "outputs": [],
   "source": [
    "G = nx.Graph()"
   ]
  },
  {
   "cell_type": "code",
   "execution_count": 3,
   "metadata": {
    "collapsed": true
   },
   "outputs": [],
   "source": [
    "G.add_edges_from([(1, 2), (1, 3),(2,3)])\n",
    "G.add_node(4)"
   ]
  },
  {
   "cell_type": "code",
   "execution_count": 4,
   "metadata": {
    "collapsed": true
   },
   "outputs": [],
   "source": [
    "G.add_nodes_from([6,7])\n",
    "G.add_edges_from([(6,7),(7,4),(4,2),(6,3)])"
   ]
  },
  {
   "cell_type": "code",
   "execution_count": 5,
   "metadata": {
    "scrolled": true
   },
   "outputs": [
    {
     "data": {
      "image/png": "[encoded data removed]",
      "text/plain": [
       "<matplotlib.figure.Figure at 0x151509e390>"
      ]
     },
     "metadata": {},
     "output_type": "display_data"
    }
   ],
   "source": [
    "plt.subplot(121)\n",
    "nx.draw(G, with_labels=True, font_weight='bold')\n",
    "plt.show()"
   ]
  },
  {
   "cell_type": "markdown",
   "metadata": {},
   "source": [
    "In this plot, an undirected network was visualized. There are 7 nodes and 7 edges in this graph. It could be noticed that all of the nodes have 2 or more connections."
   ]
  },
  {
   "cell_type": "markdown",
   "metadata": {},
   "source": [
    "# 2. Visualize a graph generated from CSV files"
   ]
  },
  {
   "cell_type": "code",
   "execution_count": 6,
   "metadata": {
    "collapsed": true
   },
   "outputs": [],
   "source": [
    "path = 'polnet2017/Data/'\n",
    "edges = 'Dataset1-Media-Example-EDGES.csv'\n",
    "nodes = 'Dataset1-Media-Example-NODES.csv'"
   ]
  },
  {
   "cell_type": "code",
   "execution_count": 7,
   "metadata": {
    "collapsed": true
   },
   "outputs": [],
   "source": [
    "with open(path+nodes) as nodecsv:\n",
    "    nodereader = csv.reader(nodecsv)\n",
    "    nodes = [n for n in nodereader][1:]"
   ]
  },
  {
   "cell_type": "code",
   "execution_count": 8,
   "metadata": {
    "collapsed": true
   },
   "outputs": [],
   "source": [
    "node_names = [n[0] for n in nodes]"
   ]
  },
  {
   "cell_type": "code",
   "execution_count": 9,
   "metadata": {
    "collapsed": true
   },
   "outputs": [],
   "source": [
    "with open(path+edges) as edgecsv:\n",
    "    edgereader = csv.reader(edgecsv)\n",
    "    edges = [(e[0],e[1]) for e in edgereader][1:]"
   ]
  },
  {
   "cell_type": "code",
   "execution_count": 10,
   "metadata": {
    "collapsed": true
   },
   "outputs": [],
   "source": [
    "G = nx.Graph()\n",
    "G.add_nodes_from(node_names)\n",
    "G.add_edges_from(edges)"
   ]
  },
  {
   "cell_type": "code",
   "execution_count": 11,
   "metadata": {
    "collapsed": true
   },
   "outputs": [],
   "source": [
    "pos=nx.fruchterman_reingold_layout(G) "
   ]
  },
  {
   "cell_type": "code",
   "execution_count": 12,
   "metadata": {
    "collapsed": true
   },
   "outputs": [],
   "source": [
    "Xv=[pos[k][0] for k in node_names]\n",
    "Yv=[pos[k][1] for k in node_names]\n",
    "Xed=[]\n",
    "Yed=[]\n",
    "for edge in edges:\n",
    "    Xed+=[pos[edge[0]][0],pos[edge[1]][0], None]\n",
    "    Yed+=[pos[edge[0]][1],pos[edge[1]][1], None] "
   ]
  },
  {
   "cell_type": "code",
   "execution_count": 13,
   "metadata": {
    "collapsed": true
   },
   "outputs": [],
   "source": [
    "trace3=go.Scatter(x=Xed,\n",
    "               y=Yed,\n",
    "               mode='lines',\n",
    "               line=Line(color='rgb(210,210,210)', width=1),\n",
    "               hoverinfo='none'\n",
    "               )\n",
    "trace4=go.Scatter(x=Xv,\n",
    "               y=Yv,\n",
    "               mode='markers',\n",
    "               name='net',\n",
    "               marker=Marker(symbol='dot',\n",
    "                             size=5, \n",
    "                             color='#6959CD',\n",
    "                             line=Line(color='rgb(50,50,50)', width=0.5)\n",
    "                             ),\n",
    "               text=node_names,\n",
    "               hoverinfo='text'\n",
    "               )\n",
    "\n",
    "layout2 = go.Layout(title = \"Network Graph\",\n",
    "                   titlefont=dict(size=16),\n",
    "                showlegend=False,\n",
    "                hovermode='closest',\n",
    "                margin=dict(b=20,l=5,r=5,t=40),\n",
    "                xaxis=XAxis(showgrid=False, zeroline=False, showticklabels=False),\n",
    "                yaxis=YAxis(showgrid=False, zeroline=False, showticklabels=False))"
   ]
  },
  {
   "cell_type": "code",
   "execution_count": 14,
   "metadata": {},
   "outputs": [
    {
     "data": {
      "text/html": [
       "<iframe id=\"igraph\" scrolling=\"no\" style=\"border:none;\" seamless=\"seamless\" src=\"https://plot.ly/~hatchin/76.embed\" height=\"525px\" width=\"100%\"></iframe>"
      ],
      "text/plain": [
       "<plotly.tools.PlotlyDisplay object>"
      ]
     },
     "execution_count": 14,
     "metadata": {},
     "output_type": "execute_result"
    }
   ],
   "source": [
    "fig2 = dict(data=[trace3, trace4], layout=layout2)\n",
    "\n",
    "py.iplot(fig2)"
   ]
  },
  {
   "cell_type": "markdown",
   "metadata": {
    "collapsed": true
   },
   "source": [
    "In this graph, a network was visualized based on the data from the csv file. If you hover the mouse, the label of the nodes would be showed. From this graph it could be found that node S3 was the center of this network, which had 8 direct connections in this network."
   ]
  },
  {
   "cell_type": "code",
   "execution_count": null,
   "metadata": {
    "collapsed": true
   },
   "outputs": [],
   "source": []
  }
 ],
 "metadata": {
  "kernelspec": {
   "display_name": "Python 3",
   "language": "python",
   "name": "python3"
  },
  "language_info": {
   "codemirror_mode": {
    "name": "ipython",
    "version": 3
   },
   "file_extension": ".py",
   "mimetype": "text/x-python",
   "name": "python",
   "nbconvert_exporter": "python",
   "pygments_lexer": "ipython3",
   "version": "3.6.3"
  }
 },
 "nbformat": 4,
 "nbformat_minor": 2
}
